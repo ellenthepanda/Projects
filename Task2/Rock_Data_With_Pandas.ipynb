{
 "cells": [
  {
   "cell_type": "code",
   "execution_count": 4,
   "metadata": {},
   "outputs": [
    {
     "name": "stdout",
     "output_type": "stream",
     "text": [
      "     rock_id      x_pos       y_pos    weight weight_info\n",
      "0          0   4.436538   21.848768  0.815734   estimated\n",
      "1          1   7.596207   64.461780  1.390219        None\n",
      "2          2   6.266200   43.585264  1.148400        None\n",
      "3          3   6.444882   46.771399  1.180888  calculated\n",
      "4          4   1.144067    1.495116  0.217103        None\n",
      "..       ...        ...         ...       ...         ...\n",
      "124      124  10.752656  130.402472  1.964119  calculated\n",
      "125      125   2.842211    8.741344  0.525857        None\n",
      "126      126   8.615627   83.858386  1.575569        None\n",
      "127      127   0.620384    0.394499  0.121888   estimated\n",
      "128      128   3.749091   15.128401  0.690744        None\n",
      "\n",
      "[129 rows x 5 columns]\n"
     ]
    },
    {
     "name": "stderr",
     "output_type": "stream",
     "text": [
      "<ipython-input-4-fcf584f4045f>:3: ParserWarning: Falling back to the 'python' engine because the 'c' engine does not support regex separators (separators > 1 char and different from '\\s+' are interpreted as regex); you can avoid this warning by specifying engine='python'.\n",
      "  Cov = pd.read_csv(\"http://www.hep.ucl.ac.uk/undergrad/3459/data/module6/module6-data.txt\",\n"
     ]
    }
   ],
   "source": [
    "import pandas as pd\n",
    "\n",
    "Cov = pd.read_csv(\"http://www.hep.ucl.ac.uk/undergrad/3459/data/module6/module6-data.txt\", \n",
    "                  sep='  ',\n",
    "                  names=[\"x_pos\", \"y_pos\", \"weight\", \"weight_info\"])\n",
    "\n",
    "df = pd.DataFrame(Cov) \n",
    "df= df.rename_axis(\"rock_id\").reset_index()\n",
    "\n",
    "df.to_csv (r'C:\\Users\\ellenmuller\\Desktop\\csvfilesrock.csv', index = None, header=True)\n",
    "\n",
    "print(df)"
   ]
  },
  {
   "cell_type": "code",
   "execution_count": null,
   "metadata": {},
   "outputs": [],
   "source": []
  }
 ],
 "metadata": {
  "kernelspec": {
   "display_name": "Python 3",
   "language": "python",
   "name": "python3"
  },
  "language_info": {
   "codemirror_mode": {
    "name": "ipython",
    "version": 3
   },
   "file_extension": ".py",
   "mimetype": "text/x-python",
   "name": "python",
   "nbconvert_exporter": "python",
   "pygments_lexer": "ipython3",
   "version": "3.8.1"
  }
 },
 "nbformat": 4,
 "nbformat_minor": 4
}
