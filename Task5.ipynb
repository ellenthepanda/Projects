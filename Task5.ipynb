{
 "cells": [
  {
   "cell_type": "code",
   "execution_count": 1,
   "metadata": {},
   "outputs": [],
   "source": [
    "import os\n",
    "from sqlalchemy import create_engine\n",
    "import pandas as pd "
   ]
  },
  {
   "cell_type": "code",
   "execution_count": 2,
   "metadata": {},
   "outputs": [],
   "source": [
    "db = { \n",
    "    'username': os.environ['DB_USERNAME'],\n",
    "    'password': os.environ['DB_PASSWORD'],\n",
    "    'host': os.environ['DB_HOST'],\n",
    "    'port': os.environ['DB_PORT'],\n",
    "    'dbname': os.environ['DB_NAME']\n",
    "}"
   ]
  },
  {
   "cell_type": "code",
   "execution_count": 3,
   "metadata": {},
   "outputs": [],
   "source": [
    "engine = f\"postgresql+psycopg2://{db['username']}:{db['password']}@{db['host']}:{db['port']}/{db['dbname']}\""
   ]
  },
  {
   "cell_type": "code",
   "execution_count": 4,
   "metadata": {},
   "outputs": [],
   "source": [
    "conn = create_engine(engine)\n",
    "#+'?sslmode=require' - not necessary\n",
    "#conn.connect() - to check if connection works"
   ]
  },
  {
   "cell_type": "code",
   "execution_count": 5,
   "metadata": {
    "scrolled": false
   },
   "outputs": [],
   "source": [
    "#pd.read_sql(con=conn, sql=\n",
    "#\"SELECT EXTRACT(MONTH FROM tweet_created) AS month, EXTRACT(YEAR FROM tweet_created) AS year, COUNT(*) AS num_of_tweets FROM social_media.tweets WHERE user_screen_name ='imaginecurve' GROUP BY year, month ORDER BY year, month;\")\n",
    "\n",
    "\n"
   ]
  },
  {
   "cell_type": "code",
   "execution_count": null,
   "metadata": {},
   "outputs": [],
   "source": []
  }
 ],
 "metadata": {
  "kernelspec": {
   "display_name": "Python 3",
   "language": "python",
   "name": "python3"
  },
  "language_info": {
   "codemirror_mode": {
    "name": "ipython",
    "version": 3
   },
   "file_extension": ".py",
   "mimetype": "text/x-python",
   "name": "python",
   "nbconvert_exporter": "python",
   "pygments_lexer": "ipython3",
   "version": "3.8.1"
  }
 },
 "nbformat": 4,
 "nbformat_minor": 4
}
