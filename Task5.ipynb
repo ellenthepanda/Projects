{
 "cells": [
  {
   "cell_type": "code",
   "execution_count": 2,
   "metadata": {
    "scrolled": true
   },
   "outputs": [
    {
     "name": "stdout",
     "output_type": "stream",
     "text": [
      "ellenmuller\n",
      "environ({'DB_HOST': 'localhost', 'TERM_PROGRAM': 'Apple_Terminal', 'DB_NAME': 'curve', 'SHELL': '/bin/bash', 'TERM': 'xterm-color', 'DB_PORT': '5439', 'TMPDIR': '/var/folders/rj/ckv99gvj6yxgcpgbfvy1thhw0000gn/T/', 'Apple_PubSub_Socket_Render': '/private/tmp/com.apple.launchd.jQIYVh6Bp2/Render', 'TERM_PROGRAM_VERSION': '421.2', 'OLDPWD': '/Users/ellenmuller', 'TERM_SESSION_ID': '25E76442-1671-43F6-BD27-5986E4F8E6B7', 'USER': 'ellenmuller', 'SSH_AUTH_SOCK': '/private/tmp/com.apple.launchd.6l9TEFkRy4/Listeners', 'PATH': '/Library/Frameworks/Python.framework/Versions/3.8/bin:/Library/Frameworks/Python.framework/Versions/3.8/bin:/Library/Frameworks/Python.framework/Versions/3.8/bin:/usr/local/bin:/usr/bin:/bin:/usr/sbin:/sbin', 'PWD': '/Users/ellenmuller/Project', 'DB_PASSWORD': '5RVsQ!6GTmWp&LM4', 'LANG': 'en_GB.UTF-8', 'XPC_FLAGS': '0x0', 'XPC_SERVICE_NAME': '0', 'DB_USERNAME': 'ellenmuller', 'SHLVL': '1', 'HOME': '/Users/ellenmuller', 'LOGNAME': 'ellenmuller', '_': '/Library/Frameworks/Python.framework/Versions/3.8/bin/jupyter', '__CF_USER_TEXT_ENCODING': '0x1F5:0:2', '__PYVENV_LAUNCHER__': '/Library/Frameworks/Python.framework/Versions/3.8/bin/python3.8', 'KERNEL_LAUNCH_TIMEOUT': '40', 'JPY_PARENT_PID': '2672', 'CLICOLOR': '1', 'PAGER': 'cat', 'GIT_PAGER': 'cat', 'MPLBACKEND': 'module://ipykernel.pylab.backend_inline'})\n"
     ]
    }
   ],
   "source": [
    "import os\n"
   ]
  },
  {
   "cell_type": "code",
   "execution_count": 15,
   "metadata": {},
   "outputs": [
    {
     "name": "stdout",
     "output_type": "stream",
     "text": [
      "{'DB_USERNAME': 'ellenmuller', 'DB_PASSWORD': '5RVsQ!6GTmWp&LM4', 'DB_HOST': 'localhost', 'DB_PORT': '5439', 'DB_NAME': 'curve'}\n"
     ]
    }
   ],
   "source": [
    "credentials = {}\n",
    "credentials['DB_USERNAME']=os.environ['DB_USERNAME']\n",
    "credentials['DB_PASSWORD']=os.environ['DB_PASSWORD']\n",
    "credentials['DB_HOST']=os.environ['DB_HOST']\n",
    "credentials['DB_PORT']=os.environ['DB_PORT']\n",
    "credentials['DB_NAME']=os.environ['DB_NAME']"
   ]
  },
  {
   "cell_type": "code",
   "execution_count": 33,
   "metadata": {},
   "outputs": [
    {
     "name": "stdout",
     "output_type": "stream",
     "text": [
      "DB_HOST\n",
      "TERM_PROGRAM\n",
      "DB_NAME\n",
      "SHELL\n",
      "TERM\n",
      "DB_PORT\n",
      "TMPDIR\n",
      "Apple_PubSub_Socket_Render\n",
      "TERM_PROGRAM_VERSION\n",
      "OLDPWD\n",
      "TERM_SESSION_ID\n",
      "USER\n",
      "SSH_AUTH_SOCK\n",
      "PATH\n",
      "PWD\n",
      "DB_PASSWORD\n",
      "LANG\n",
      "XPC_FLAGS\n",
      "XPC_SERVICE_NAME\n",
      "DB_USERNAME\n",
      "SHLVL\n",
      "HOME\n",
      "LOGNAME\n",
      "_\n",
      "__CF_USER_TEXT_ENCODING\n",
      "__PYVENV_LAUNCHER__\n",
      "KERNEL_LAUNCH_TIMEOUT\n",
      "JPY_PARENT_PID\n",
      "CLICOLOR\n",
      "PAGER\n",
      "GIT_PAGER\n",
      "MPLBACKEND\n"
     ]
    }
   ],
   "source": [
    "\n",
    "    "
   ]
  },
  {
   "cell_type": "code",
   "execution_count": null,
   "metadata": {},
   "outputs": [],
   "source": []
  }
 ],
 "metadata": {
  "kernelspec": {
   "display_name": "Python 3",
   "language": "python",
   "name": "python3"
  },
  "language_info": {
   "codemirror_mode": {
    "name": "ipython",
    "version": 3
   },
   "file_extension": ".py",
   "mimetype": "text/x-python",
   "name": "python",
   "nbconvert_exporter": "python",
   "pygments_lexer": "ipython3",
   "version": "3.8.1"
  }
 },
 "nbformat": 4,
 "nbformat_minor": 4
}
